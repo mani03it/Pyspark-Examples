{
 "cells": [
  {
   "cell_type": "code",
   "execution_count": 10,
   "metadata": {},
   "outputs": [],
   "source": [
    "import os\n",
    "import sys\n",
    "\n",
    "spark_path = 'C:\\spark\\spark-2.4.5-bin-hadoop2.7'\n",
    "os.environ['SPARK_HOME']= spark_path\n",
    "os.environ['HADOOP_HOME']=spark_path\n",
    "sys.path.append(spark_path+'\\bin')\n",
    "sys.path.append(spark_path+'\\python')\n",
    "sys.path.append(spark_path+'\\python\\pyspark')\n",
    "sys.path.append(spark_path+'\\python\\lib')\n",
    "sys.path.append(spark_path+'\\python\\lib\\pyspark.zip')\n",
    "sys.path.append(spark_path+'\\python\\lib\\py4j-0.10.7-src.zip')"
   ]
  },
  {
   "cell_type": "code",
   "execution_count": 11,
   "metadata": {},
   "outputs": [],
   "source": [
    "from pyspark.context import SparkContext\n",
    "from pyspark.sql.session import SparkSession\n",
    "sc = SparkContext('local')\n",
    "spark = SparkSession(sc)\n"
   ]
  },
  {
   "cell_type": "code",
   "execution_count": 12,
   "metadata": {},
   "outputs": [
    {
     "data": {
      "text/plain": [
       "[Row(fixed acidity=7.4, volatile acidity=0.7, citric acid=0.0, residual sugar=1.9, chlorides=0.076, free sulfur dioxide=11.0, total sulfur dioxide=34.0, density=0.9978, pH=3.51, sulphates=0.56, alcohol=9.4, quality=5)]"
      ]
     },
     "execution_count": 12,
     "metadata": {},
     "output_type": "execute_result"
    }
   ],
   "source": [
    "wine_df = spark.read.csv('F:\\Data\\wine-quality-master\\winequality\\winequality-red.csv', header = True, inferSchema=True, sep =';')\n",
    "wine_df.take(1)"
   ]
  },
  {
   "cell_type": "code",
   "execution_count": 13,
   "metadata": {},
   "outputs": [
    {
     "name": "stdout",
     "output_type": "stream",
     "text": [
      "+-------+------------------+------------------+\n",
      "|summary|           alcohol|           quality|\n",
      "+-------+------------------+------------------+\n",
      "|  count|              1599|              1599|\n",
      "|   mean|10.422983114446502|5.6360225140712945|\n",
      "| stddev|1.0656675818473935|0.8075694397347051|\n",
      "|    min|               8.4|                 3|\n",
      "|    max|              14.9|                 8|\n",
      "+-------+------------------+------------------+\n",
      "\n"
     ]
    }
   ],
   "source": [
    "wine_df.select(\"alcohol\",\"quality\").describe().show()"
   ]
  },
  {
   "cell_type": "code",
   "execution_count": 14,
   "metadata": {},
   "outputs": [
    {
     "name": "stdout",
     "output_type": "stream",
     "text": [
      "Correlation to Target for  fixed acidity 0.12405164911322263\n",
      "Correlation to Target for  volatile acidity -0.3905577802640061\n",
      "Correlation to Target for  citric acid 0.22637251431804048\n",
      "Correlation to Target for  residual sugar 0.013731637340065798\n",
      "Correlation to Target for  chlorides -0.12890655993005293\n",
      "Correlation to Target for  free sulfur dioxide -0.05065605724427597\n",
      "Correlation to Target for  total sulfur dioxide -0.18510028892653774\n",
      "Correlation to Target for  density -0.17491922778336474\n",
      "Correlation to Target for  pH -0.0577313912053826\n",
      "Correlation to Target for  sulphates 0.25139707906925995\n",
      "Correlation to Target for  alcohol 0.4761663240011364\n",
      "Correlation to Target for  quality 1.0\n"
     ]
    }
   ],
   "source": [
    "import six\n",
    "for i in wine_df.columns:\n",
    "    if not( isinstance(wine_df.select(i).take(1)[0][0], six.string_types)):\n",
    "        print( \"Correlation to Target for \", i, wine_df.stat.corr('quality',i))"
   ]
  },
  {
   "cell_type": "code",
   "execution_count": 15,
   "metadata": {},
   "outputs": [],
   "source": [
    "wine_df = wine_df.drop(\"residual sugar\").drop(\"free sulfur dioxide\") \\\n",
    "                       .drop(\"pH\").drop(\"density\") \\\n",
    "                       .drop(\"chlorides\").drop('fixed acidity')"
   ]
  },
  {
   "cell_type": "code",
   "execution_count": 16,
   "metadata": {},
   "outputs": [
    {
     "data": {
      "text/plain": [
       "[Row(volatile acidity=0.7, citric acid=0.0, total sulfur dioxide=34.0, sulphates=0.56, alcohol=9.4, quality=5, features=DenseVector([0.7, 0.0, 34.0, 0.56, 9.4])),\n",
       " Row(volatile acidity=0.88, citric acid=0.0, total sulfur dioxide=67.0, sulphates=0.68, alcohol=9.8, quality=5, features=DenseVector([0.88, 0.0, 67.0, 0.68, 9.8])),\n",
       " Row(volatile acidity=0.76, citric acid=0.04, total sulfur dioxide=54.0, sulphates=0.65, alcohol=9.8, quality=5, features=DenseVector([0.76, 0.04, 54.0, 0.65, 9.8]))]"
      ]
     },
     "execution_count": 16,
     "metadata": {},
     "output_type": "execute_result"
    }
   ],
   "source": [
    "from pyspark.ml.feature import VectorAssembler\n",
    "\n",
    "vectorAssembler = VectorAssembler(inputCols = ['volatile acidity', 'citric acid', 'total sulfur dioxide', 'sulphates', 'alcohol'], outputCol = 'features')\n",
    "vwine_df = vectorAssembler.transform(wine_df)\n",
    "vwine_df.take(3)"
   ]
  },
  {
   "cell_type": "markdown",
   "metadata": {},
   "source": [
    "# Linear Regression"
   ]
  },
  {
   "cell_type": "code",
   "execution_count": 17,
   "metadata": {},
   "outputs": [],
   "source": [
    "splits = vwine_df.randomSplit([0.7, 0.3])\n",
    "train_df = splits[0]\n",
    "test_df = splits[1]"
   ]
  },
  {
   "cell_type": "code",
   "execution_count": 18,
   "metadata": {},
   "outputs": [
    {
     "name": "stdout",
     "output_type": "stream",
     "text": [
      "Coefficients: [-1.192327680218766,-0.1406506561013906,-0.0023366479805107766,0.6712864466317191,0.29313869740937387]\n",
      "Intercept: 2.910302795585135\n"
     ]
    }
   ],
   "source": [
    "from pyspark.ml.regression import LinearRegression\n",
    "\n",
    "lr = LinearRegression(featuresCol = 'features', labelCol='quality', maxIter=10)\n",
    "lr_model = lr.fit(train_df)\n",
    "print(\"Coefficients: \" + str(lr_model.coefficients))\n",
    "print(\"Intercept: \" + str(lr_model.intercept))"
   ]
  },
  {
   "cell_type": "code",
   "execution_count": 19,
   "metadata": {},
   "outputs": [
    {
     "name": "stdout",
     "output_type": "stream",
     "text": [
      "+------------------+-------+--------------------+\n",
      "|        prediction|quality|            features|\n",
      "+------------------+-------+--------------------+\n",
      "| 6.653389269734186|      7|[0.12,0.45,21.0,0...|\n",
      "| 6.494977065005012|      6|[0.18,0.34,58.0,0...|\n",
      "| 5.983445948188404|      6|[0.18,0.48,15.0,0...|\n",
      "| 6.182057772049744|      6|[0.18,0.51,23.0,0...|\n",
      "| 6.102516306198623|      6|[0.21,0.4,165.0,0...|\n",
      "| 5.802704773859206|      7|[0.21,0.44,24.0,0...|\n",
      "| 6.402419969272411|      6|[0.21,0.49,32.0,0...|\n",
      "| 6.031437110315464|      5|[0.21,0.52,23.0,0...|\n",
      "| 6.040904409828122|      6|[0.22,0.3,20.0,0....|\n",
      "| 5.909176988307944|      6|[0.23,0.57,8.0,0....|\n",
      "| 5.726800545549747|      6|[0.24,0.39,10.0,0...|\n",
      "| 5.643793566410453|      6|[0.24,0.4,25.0,0....|\n",
      "|5.9479263728914855|      5|[0.24,0.49,28.0,0...|\n",
      "| 6.674847734571488|      7|[0.25,0.39,10.0,0...|\n",
      "|  6.11382030178604|      6|[0.25,0.46,42.0,0...|\n",
      "| 6.109334628243798|      6|[0.26,0.26,77.0,0...|\n",
      "| 5.950712340576575|      6|[0.26,0.3,38.0,0....|\n",
      "| 5.770659770559126|      6|[0.26,0.44,19.0,0...|\n",
      "| 6.371461945087507|      7|[0.26,0.47,24.0,1...|\n",
      "| 6.493035154633371|      7|[0.27,0.49,17.0,0...|\n",
      "+------------------+-------+--------------------+\n",
      "only showing top 20 rows\n",
      "\n"
     ]
    }
   ],
   "source": [
    "predictions = lr_model.transform(test_df)\n",
    "predictions.select(\"prediction\",\"quality\",\"features\").show()"
   ]
  },
  {
   "cell_type": "code",
   "execution_count": 20,
   "metadata": {},
   "outputs": [
    {
     "data": {
      "text/plain": [
       "0.40604656203478895"
      ]
     },
     "execution_count": 20,
     "metadata": {},
     "output_type": "execute_result"
    }
   ],
   "source": [
    "#Find R2 for Linear Regression\n",
    "from pyspark.ml.evaluation import RegressionEvaluator\n",
    "evaluator = RegressionEvaluator(predictionCol=\"prediction\", \\\n",
    "                 labelCol=\"quality\",metricName=\"r2\")\n",
    "evaluator.evaluate(predictions)"
   ]
  },
  {
   "cell_type": "code",
   "execution_count": 21,
   "metadata": {},
   "outputs": [],
   "source": [
    "sc.stop()"
   ]
  },
  {
   "cell_type": "code",
   "execution_count": null,
   "metadata": {},
   "outputs": [],
   "source": []
  }
 ],
 "metadata": {
  "kernelspec": {
   "display_name": "Python 3",
   "language": "python",
   "name": "python3"
  },
  "language_info": {
   "codemirror_mode": {
    "name": "ipython",
    "version": 3
   },
   "file_extension": ".py",
   "mimetype": "text/x-python",
   "name": "python",
   "nbconvert_exporter": "python",
   "pygments_lexer": "ipython3",
   "version": "3.7.3"
  }
 },
 "nbformat": 4,
 "nbformat_minor": 2
}
